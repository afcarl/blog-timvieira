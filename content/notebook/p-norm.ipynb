{
 "metadata": {
  "name": "",
  "signature": "sha256:5575b58190e46d4f6293494fde1bbe3fac19475b20172b747d3a964a7f840059"
 },
 "nbformat": 3,
 "nbformat_minor": 0,
 "worksheets": [
  {
   "cells": [
    {
     "cell_type": "heading",
     "level": 1,
     "metadata": {},
     "source": [
      "Numerically-stable p-norms"
     ]
    },
    {
     "cell_type": "markdown",
     "metadata": {},
     "source": [
      "Consider the p-norm\n",
      "$$\n",
      "|| \\boldsymbol{x} ||_p = \\left( \\sum_i |x_i|^p \\right)^{\\frac{1}{p}}\n",
      "$$\n",
      "\n",
      "In python this translates to:"
     ]
    },
    {
     "cell_type": "code",
     "collapsed": false,
     "input": [
      "from numpy import array\n",
      "\n",
      "def norm1(x, p):\n",
      "    \"First-pass implementation of p-norm.\"\n",
      "    return (x**p).sum() ** (1./p)"
     ],
     "language": "python",
     "metadata": {},
     "outputs": [],
     "prompt_number": 1
    },
    {
     "cell_type": "markdown",
     "metadata": {},
     "source": [
      "Now, suppose $|x_i|^p$ causes overflow (for some $i$). This will occur for sufficiently large $p$ or sufficiently large $x_i$---even if $x_i$ is representable (i.e., not NaN or $\\infty$).\n",
      "\n",
      "For example:"
     ]
    },
    {
     "cell_type": "code",
     "collapsed": false,
     "input": [
      "big = 1e300\n",
      "x = array([big])\n",
      "\n",
      "print 'got: %g' % norm1(x, p=2)\n",
      "print 'expected: %g' % big"
     ],
     "language": "python",
     "metadata": {},
     "outputs": [
      {
       "output_type": "stream",
       "stream": "stdout",
       "text": [
        "got: inf\n",
        "expected: 1e+300\n"
       ]
      }
     ],
     "prompt_number": 2
    },
    {
     "cell_type": "markdown",
     "metadata": {},
     "source": [
      "This fails because we can't square big"
     ]
    },
    {
     "cell_type": "code",
     "collapsed": false,
     "input": [
      "print np.array([big])**2"
     ],
     "language": "python",
     "metadata": {},
     "outputs": [
      {
       "output_type": "stream",
       "stream": "stdout",
       "text": [
        "[ inf]\n"
       ]
      }
     ],
     "prompt_number": 3
    },
    {
     "cell_type": "heading",
     "level": 2,
     "metadata": {},
     "source": [
      "A little math"
     ]
    },
    {
     "cell_type": "markdown",
     "metadata": {},
     "source": [
      "There is a way to avoid overflow on the account of a few large $x_i$.\n",
      "\n",
      "Here's a little fact about p-norms: for any $p$ and $\\boldsymbol{x}$\n",
      "$$\n",
      "|| \\alpha \\cdot \\boldsymbol{x} ||_p = |\\alpha| \\cdot || \\boldsymbol{x}   ||_p\n",
      "$$\n",
      "\n",
      "We'll use the following version (harder to remember)\n",
      "$$\n",
      "|| \\boldsymbol{x} ||_p  = |\\alpha| \\cdot || \\boldsymbol{x} / \\alpha ||_p\n",
      "$$\n",
      "\n",
      "Don't believe it? Here's some algebra:\n",
      "$$\n",
      "\\begin{eqnarray*}\n",
      "|| \\boldsymbol{x} ||_p\n",
      "&=& \\left( \\sum_i |x_i|^p \\right)^{\\frac{1}{p}} \\\\\n",
      "&=& \\left( \\sum_i \\frac{|\\alpha|^p}{|\\alpha|^p} \\cdot |x_i|^p \\right)^{\\frac{1}{p}} \\\\\n",
      "&=& |\\alpha| \\cdot \\left( \\sum_i \\left( \\frac{|x_i| }{|\\alpha|} \\right)^p \\right)^{\\frac{1}{p}} \\\\\n",
      "&=& |\\alpha| \\cdot \\left( \\sum_i \\left| \\frac{x_i }{\\alpha} \\right|^p \\right)^{\\frac{1}{p}} \\\\\n",
      "&=& |\\alpha| \\cdot || \\boldsymbol{x} / \\alpha ||_p\n",
      "\\end{eqnarray*}\n",
      "$$"
     ]
    },
    {
     "cell_type": "heading",
     "level": 2,
     "metadata": {},
     "source": [
      "Back to numerical stability"
     ]
    },
    {
     "cell_type": "markdown",
     "metadata": {},
     "source": [
      "Suppose we pick $\\alpha = \\max_i |x_i|$. Now, the largest number we have to take\n",
      "the power of is one --- making it very difficult to overflow on the account of\n",
      "$\\boldsymbol{x}$. This should remind you of the infamous log-sum-exp trick."
     ]
    },
    {
     "cell_type": "code",
     "collapsed": false,
     "input": [
      "def robust_norm(x, p):\n",
      "    a = np.abs(x).max()\n",
      "    return a * norm1(x / a, p)"
     ],
     "language": "python",
     "metadata": {},
     "outputs": [],
     "prompt_number": 4
    },
    {
     "cell_type": "markdown",
     "metadata": {},
     "source": [
      "Now, our example from before works :-)"
     ]
    },
    {
     "cell_type": "code",
     "collapsed": false,
     "input": [
      "print robust_norm(x, p=2)"
     ],
     "language": "python",
     "metadata": {},
     "outputs": [
      {
       "output_type": "stream",
       "stream": "stdout",
       "text": [
        "1e+300\n"
       ]
      }
     ],
     "prompt_number": 5
    },
    {
     "cell_type": "heading",
     "level": 2,
     "metadata": {},
     "source": [
      "Remarks"
     ]
    },
    {
     "cell_type": "markdown",
     "metadata": {},
     "source": [
      "\n",
      "* A special case of this trick is available for $p=2$ (Euclidean norm), c.f `numpy.hypot`.\n",
      "\n",
      "* It appears as if `scipy.linalg.norm` is robust to overflow, while `numpy.linalg.norm` is not. Note that `scipy.linalg.norm` appears to be a bit slower.\n",
      "\n",
      "* The `logsumexp` trick is nearly identical, but operates in the log-domain, i.e., $\\text{logsumexp}(\\log(|x|) \\cdot p) / p = \\log || x ||_p$. You can implement both tricks with the same code, if you use different number classes for log-domain and real-domain---a trick you might have seen before."
     ]
    },
    {
     "cell_type": "code",
     "collapsed": false,
     "input": [
      "from arsenal.math import logsumexp\n",
      "from numpy import log, exp, abs\n",
      "p = 2\n",
      "x = array([1,2,4,5])\n",
      "print logsumexp(log(abs(x)) * p) / p\n",
      "print log(robust_norm(x, p))"
     ],
     "language": "python",
     "metadata": {},
     "outputs": [
      {
       "output_type": "stream",
       "stream": "stdout",
       "text": [
        "1.91432069824\n",
        "1.91432069824\n"
       ]
      }
     ],
     "prompt_number": 22
    }
   ],
   "metadata": {}
  }
 ]
}