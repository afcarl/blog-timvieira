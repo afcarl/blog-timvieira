{
 "cells": [
  {
   "cell_type": "markdown",
   "metadata": {},
   "source": [
    "# Approximate function table"
   ]
  },
  {
   "cell_type": "markdown",
   "metadata": {},
   "source": [
    "Approximate function tables can be used to speed-up code at an often small hit numerical precision. The basic idea is to replace a function $f(x)$ with an array, such that the values $x$ can easily be mapped to values of the array.\n",
    "\n",
    "Consider the following example:"
   ]
  },
  {
   "cell_type": "code",
   "execution_count": 6,
   "metadata": {
    "collapsed": false
   },
   "outputs": [
    {
     "name": "stdout",
     "output_type": "stream",
     "text": [
      "Populating the interactive namespace from numpy and matplotlib\n"
     ]
    },
    {
     "data": {
      "text/plain": [
       "[<matplotlib.lines.Line2D at 0x2b3fc4c1fa50>]"
      ]
     },
     "execution_count": 6,
     "metadata": {},
     "output_type": "execute_result"
    },
    {
     "data": {
      "image/png": "[encoded data removed]",
      "text/plain": [
       "<matplotlib.figure.Figure at 0x2b3fbc9be110>"
      ]
     },
     "metadata": {},
     "output_type": "display_data"
    }
   ],
   "source": [
    "%pylab inline\n",
    "import pylab as pl, numpy as np\n",
    "xs = pl.arange(-5,5,0.01)\n",
    "pl.plot(xs, 1./(1.+np.exp(-xs)))"
   ]
  },
  {
   "cell_type": "markdown",
   "metadata": {},
   "source": [
    "It's well known that exp is a pretty slow function.\n",
    "\n",
    "In order to apply this trick it will be convenient to only need to worry about the function over finite range. This requires some special knowledge of function. For example, the sigmoid function is 0 for large negative numbers and 1 for large positive numbers. Another good example are periodic functions like sin and cos.\n",
    "\n",
    "Note that even this plot is a numerical approximation to the actual function.\n",
    "\n",
    "I recently used an approximation to $\\text{logadd}(x,y)=\\log(\\exp(x) + \\exp(y))$ and found that my finite difference gradient tests no longer worked as they used to.\n",
    "\n",
    "I came up with the follow tweak: use a piecewise linear approximation, instead of piecewise constant. \n",
    "\n",
    " * This avoid problems with how to round up or down. \n",
    "\n",
    " * The approximation function is sub-differentiable everywhere. \n",
    " \n",
    " * Slightly slower to compute because we have a few more operations per lookup.\n",
    "\n",
    "How good does the approximation need to be? Depends on your use case.\n",
    "\n",
    "robot coins example\n",
    "\n",
    "gradient descent for logistic regression"
   ]
  },
  {
   "cell_type": "code",
   "execution_count": null,
   "metadata": {
    "collapsed": false
   },
   "outputs": [],
   "source": []
  }
 ],
 "metadata": {
  "kernelspec": {
   "display_name": "Python 2",
   "language": "python",
   "name": "python2"
  },
  "language_info": {
   "codemirror_mode": {
    "name": "ipython",
    "version": 2
   },
   "file_extension": ".py",
   "mimetype": "text/x-python",
   "name": "python",
   "nbconvert_exporter": "python",
   "pygments_lexer": "ipython2",
   "version": "2.7.9"
  }
 },
 "nbformat": 4,
 "nbformat_minor": 0
}
