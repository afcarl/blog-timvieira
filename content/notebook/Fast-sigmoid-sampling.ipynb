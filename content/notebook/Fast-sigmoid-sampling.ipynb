{
 "cells": [
  {
   "cell_type": "markdown",
   "metadata": {},
   "source": [
    "# Fast sigmoid sampling"
   ]
  },
  {
   "cell_type": "markdown",
   "metadata": {},
   "source": [
    "In this notebook, we describe a simple trick for efficiently sampling a Bernoulli random variable $Y$ from a sigmoid-defined distribution, $p(Y = 1) = (1 + \\exp(-x))^{-1}$, where $x \\in \\mathbb{R}$ is the only parameter of the distribution ($x$ is often defined as the dot product of features and weights).\n",
    "\n",
    "The \"slow\" method for sampling from a sigmoid,\n",
    "\n",
    "$$\n",
    "u \\sim \\textrm{Uniform}(0,1)\n",
    "$$\n",
    "$$\n",
    "Y = sigmoid(x) > u\n",
    "$$\n",
    "\n",
    "This method is slow because it calls the sigmoid function for every value of $x$. It is slow because $\\exp$ is 2-3x slower than basic arithmetic operations.\n",
    "\n",
    "In this post, I'll describe a simple trick, which is well-suited to vectorized computations (e.g., numpy, matlab). The way it works is by *precomputing* the expensive stuff (i.e., calls to expensive functions like $\\exp$).\n",
    "\n",
    "$$\n",
    "sigmoid(x) > u \\Leftrightarrow logit(sigmoid(x)) > logit(u) \\Leftrightarrow x > logit(u).\n",
    "$$\n",
    "\n",
    "Some details worth mentioning: (a) [logit](https://en.wikipedia.org/wiki/Logit) is the inverse of sigmoid and (b) logit is strictly monotonic increasing you can apply it both sides of the greater than and preserves ordering (there's a plot in the appendix).\n",
    "\n",
    "The \"fast\" method derives it's advantage by leveraging the fact that expensive computation can be done independently of the data (i.e., specific values of $x$). The fast method is also interesting as just cute math. In the bonus section of this post, we'll make a connection to the [Gumbel max trick](http://timvieira.github.io/blog/post/2014/07/31/gumbel-max-trick/).\n",
    "\n",
    "**How fast is it in practice?** Below, we run a quick experiment to test that the method is correct and how fast it is."
   ]
  },
  {
   "cell_type": "code",
   "execution_count": 1,
   "metadata": {
    "collapsed": false
   },
   "outputs": [],
   "source": [
    "%matplotlib inline\n",
    "import numpy as np\n",
    "import pylab as pl\n",
    "from numpy.random import uniform\n",
    "from numpy import exp\n",
    "from scipy.special import expit as sigmoid, logit\n",
    "from arsenal.timer import timers                      # https://github.com/timvieira/arsenal"
   ]
  },
  {
   "cell_type": "code",
   "execution_count": 2,
   "metadata": {
    "collapsed": false
   },
   "outputs": [
    {
     "name": "stdout",
     "output_type": "stream",
     "text": [
      "fast is 28.5087x faster than slow-2 \u001b[33m(avg: slow-2: 0.000339796 fast: 1.1919e-05)\u001b[0m\n",
      "slow-2 is 1.0017x faster than slow-1 \u001b[33m(avg: slow-1: 0.000340359 slow-2: 0.000339796)\u001b[0m\n",
      "slow-2 is 1.0878x faster than slow-3 \u001b[33m(avg: slow-3: 0.00036963 slow-2: 0.000339796)\u001b[0m\n"
     ]
    },
    {
     "data": {
      "image/png": "[encoded data removed]",
      "text/plain": [
       "<matplotlib.figure.Figure at 0x7f8fe01b7490>"
      ]
     },
     "metadata": {},
     "output_type": "display_data"
    }
   ],
   "source": [
    "T = timers()\n",
    "\n",
    "# These are the sigmoid parameters we're going to sample from.\n",
    "n = 10000\n",
    "X = np.linspace(-5,5,n)\n",
    "\n",
    "# number of runs to average over.\n",
    "R = 1000\n",
    "\n",
    "# Used for plotting average p(Y=1)\n",
    "F = np.zeros_like(X)\n",
    "\n",
    "# Temporary array for saving on memory allocation, cf. method slow-2.\n",
    "tmp = np.empty(n)                     \n",
    "\n",
    "for _ in range(R):\n",
    "\n",
    "    # Let's use the same random variables for all methods. This allows \n",
    "    # for a lower variance comparsion and equivalence testing.\n",
    "    u = uniform(0,1,size=n)\n",
    "    z = logit(u)       # used in fast method: precompute expensive stuff.\n",
    "\n",
    "    # Requires computing sigmoid for each x.\n",
    "    with T['slow-1']:\n",
    "        s1 = sigmoid(X) > u           \n",
    "        \n",
    "    # Avoid memory allocation in slow-1 by using the out option to sigmoid\n",
    "    # function. It's a little bit faster than slow-1.\n",
    "    with T['slow-2']:\n",
    "        sigmoid(X, out=tmp)           \n",
    "        s2 = tmp > u\n",
    "\n",
    "    # Rolling our sigmoid is a bit slower than using the library function.\n",
    "    # Not to mention this implementation isn't as numerically stable.\n",
    "    with T['slow-3']:\n",
    "        s3 = 1/(1+exp(-X)) > u\n",
    "        \n",
    "    # The fast method.\n",
    "    with T['fast']:\n",
    "        f = X > z\n",
    "    \n",
    "    F += f / R    \n",
    "    assert (s1 == f).all()\n",
    "    assert (s2 == f).all()\n",
    "    assert (s3 == f).all()\n",
    "\n",
    "pl.plot(X, F)\n",
    "pl.plot(X, sigmoid(X), c='r', lw=2)\n",
    "T.compare()"
   ]
  },
  {
   "cell_type": "markdown",
   "metadata": {},
   "source": [
    "It looks like our trick is about $28$x faster than the competing slow methods!\n",
    "\n",
    "We also, that the assert statements all passed all of the methods are doing exactly the same thing. Furthermore, the plot at the end show that the distribution looks like what we expect (it's shape matches the red sigmoid curve). (You can crank up ``R`` to see the fit get tighter.)"
   ]
  },
  {
   "cell_type": "markdown",
   "metadata": {},
   "source": [
    "## Bonus\n",
    "\n",
    "We could alternatively use the [Gumbel max trick](http://timvieira.github.io/blog/post/2014/07/31/gumbel-max-trick/) to derive a similar algorithm. If we ground out the trick for a sigmoid instead of a general mutlinomal distributions, we end up with\n",
    "\n",
    "$$\n",
    "Z_0 \\sim \\textrm{Gumbel}(0,1)\n",
    "$$\n",
    "$$\n",
    "Z_1 \\sim \\textrm{Gumbel}(0,1)\n",
    "$$\n",
    "$$\n",
    "Y = x > Z_0 - Z_1\n",
    "$$\n",
    "\n",
    "Much like our new trick, this one benefits from the fact that all expensive stuff is done independent of the data (i.e., the value of $x$). However, it seems silly that we \"need\" to generate *two* Gumbel RVs to get one sample from the sigmoid. With a little bit of Googling, we discover that the difference of $\\textrm{Gumbel}(0,1)$ RVs is a [logistic](https://en.wikipedia.org/wiki/Logistic_distribution) RV (specifically $\\textrm{Logistic}(0,1)$).\n",
    "\n",
    "It turns out that $\\textrm{logit}(\\textrm{Uniform}(0,1))$ is a $\\textrm{Logistic}(0,1)$ RV.\n",
    "\n",
    "Voila! Our fast sampling trick and the Gumbel max trick are connected!\n",
    "\n",
    "\n",
    "## Related tricks\n",
    "\n",
    "Another trick is Justin Domke's [trick](https://justindomke.wordpress.com/2014/01/08/reducing-sigmoid-computations-by-at-least-88-0797077977882/) to reduce calls to $\\exp$ by $\\approx 88\\%$. The *disadvantage* of this approach is that it's harder to implement with vectorization. The *advantage* is that we don't need to precompute any expensive things."
   ]
  },
  {
   "cell_type": "markdown",
   "metadata": {},
   "source": [
    "## Appendix"
   ]
  },
  {
   "cell_type": "markdown",
   "metadata": {},
   "source": [
    "### Logit plot"
   ]
  },
  {
   "cell_type": "code",
   "execution_count": 3,
   "metadata": {
    "collapsed": false
   },
   "outputs": [
    {
     "data": {
      "image/png": "[encoded data removed]",
      "text/plain": [
       "<matplotlib.figure.Figure at 0x7f8fe01ac590>"
      ]
     },
     "metadata": {},
     "output_type": "display_data"
    }
   ],
   "source": [
    "xs = np.linspace(0,1,100)\n",
    "ys = logit(xs)\n",
    "pl.plot(xs, ys);"
   ]
  },
  {
   "cell_type": "markdown",
   "metadata": {},
   "source": [
    "### Logistic random variable\n",
    "\n",
    "Check that our sampling method is equivalent to sampling from a logistic distribution."
   ]
  },
  {
   "cell_type": "code",
   "execution_count": 5,
   "metadata": {
    "collapsed": false
   },
   "outputs": [
    {
     "data": {
      "image/png": "[encoded data removed]",
      "text/plain": [
       "<matplotlib.figure.Figure at 0x7f8fd9a37250>"
      ]
     },
     "metadata": {},
     "output_type": "display_data"
    }
   ],
   "source": [
    "from scipy.stats import logistic\n",
    "u = uniform(0,1,size=10000)\n",
    "z = logit(u)\n",
    "pl.hist(z, bins=100, normed=1)\n",
    "xs = np.linspace(-6,6,100)\n",
    "ys = logistic.pdf(xs)\n",
    "pl.plot(xs, ys, c='r', lw=2);"
   ]
  }
 ],
 "metadata": {
  "kernelspec": {
   "display_name": "Python [Root]",
   "language": "python",
   "name": "Python [Root]"
  },
  "language_info": {
   "codemirror_mode": {
    "name": "ipython",
    "version": 2
   },
   "file_extension": ".py",
   "mimetype": "text/x-python",
   "name": "python",
   "nbconvert_exporter": "python",
   "pygments_lexer": "ipython2",
   "version": "2.7.11"
  }
 },
 "nbformat": 4,
 "nbformat_minor": 0
}
